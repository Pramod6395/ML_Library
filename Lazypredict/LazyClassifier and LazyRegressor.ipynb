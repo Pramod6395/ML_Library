{
 "cells": [
  {
   "cell_type": "markdown",
   "metadata": {},
   "source": [
    "## LazyClassifier and LazyRegressor ( For Lazy  People like me 😇 )"
   ]
  },
  {
   "cell_type": "code",
   "execution_count": 49,
   "metadata": {},
   "outputs": [],
   "source": [
    "#import important Libraries \n",
    "from lazypredict.Supervised import LazyClassifier,LazyRegressor\n",
    "from sklearn.datasets import load_iris,load_boston\n",
    "from sklearn.model_selection import train_test_split\n"
   ]
  },
  {
   "cell_type": "markdown",
   "metadata": {},
   "source": [
    "## Classification :"
   ]
  },
  {
   "cell_type": "code",
   "execution_count": 50,
   "metadata": {},
   "outputs": [
    {
     "name": "stderr",
     "output_type": "stream",
     "text": [
      "100%|██████████| 29/29 [00:01<00:00, 25.89it/s]"
     ]
    },
    {
     "name": "stdout",
     "output_type": "stream",
     "text": [
      "                               Accuracy  Balanced Accuracy ROC AUC  F1 Score  \\\n",
      "Model                                                                          \n",
      "LinearDiscriminantAnalysis         0.99               0.99    None      0.99   \n",
      "AdaBoostClassifier                 0.97               0.98    None      0.97   \n",
      "PassiveAggressiveClassifier        0.97               0.98    None      0.97   \n",
      "LogisticRegression                 0.97               0.98    None      0.97   \n",
      "GaussianNB                         0.97               0.98    None      0.97   \n",
      "SGDClassifier                      0.96               0.96    None      0.96   \n",
      "RandomForestClassifier             0.96               0.96    None      0.96   \n",
      "QuadraticDiscriminantAnalysis      0.96               0.96    None      0.96   \n",
      "Perceptron                         0.96               0.96    None      0.96   \n",
      "LGBMClassifier                     0.96               0.96    None      0.96   \n",
      "ExtraTreeClassifier                0.96               0.96    None      0.96   \n",
      "BaggingClassifier                  0.95               0.95    None      0.95   \n",
      "ExtraTreesClassifier               0.95               0.95    None      0.95   \n",
      "XGBClassifier                      0.95               0.95    None      0.95   \n",
      "DecisionTreeClassifier             0.95               0.95    None      0.95   \n",
      "LinearSVC                          0.95               0.95    None      0.95   \n",
      "CalibratedClassifierCV             0.95               0.95    None      0.95   \n",
      "KNeighborsClassifier               0.93               0.94    None      0.93   \n",
      "NuSVC                              0.93               0.94    None      0.93   \n",
      "SVC                                0.93               0.94    None      0.93   \n",
      "RidgeClassifierCV                  0.91               0.91    None      0.91   \n",
      "NearestCentroid                    0.89               0.90    None      0.89   \n",
      "LabelPropagation                   0.89               0.90    None      0.90   \n",
      "LabelSpreading                     0.89               0.90    None      0.90   \n",
      "RidgeClassifier                    0.88               0.89    None      0.88   \n",
      "BernoulliNB                        0.79               0.75    None      0.77   \n",
      "DummyClassifier                    0.27               0.28    None      0.25   \n",
      "\n",
      "                               Time Taken  \n",
      "Model                                      \n",
      "LinearDiscriminantAnalysis           0.02  \n",
      "AdaBoostClassifier                   0.16  \n",
      "PassiveAggressiveClassifier          0.01  \n",
      "LogisticRegression                   0.02  \n",
      "GaussianNB                           0.01  \n",
      "SGDClassifier                        0.01  \n",
      "RandomForestClassifier               0.16  \n",
      "QuadraticDiscriminantAnalysis        0.01  \n",
      "Perceptron                           0.01  \n",
      "LGBMClassifier                       0.03  \n",
      "ExtraTreeClassifier                  0.01  \n",
      "BaggingClassifier                    0.02  \n",
      "ExtraTreesClassifier                 0.08  \n",
      "XGBClassifier                        0.43  \n",
      "DecisionTreeClassifier               0.01  \n",
      "LinearSVC                            0.02  \n",
      "CalibratedClassifierCV               0.03  \n",
      "KNeighborsClassifier                 0.01  \n",
      "NuSVC                                0.01  \n",
      "SVC                                  0.01  \n",
      "RidgeClassifierCV                    0.01  \n",
      "NearestCentroid                      0.01  \n",
      "LabelPropagation                     0.01  \n",
      "LabelSpreading                       0.01  \n",
      "RidgeClassifier                      0.01  \n",
      "BernoulliNB                          0.01  \n",
      "DummyClassifier                      0.01  \n"
     ]
    },
    {
     "name": "stderr",
     "output_type": "stream",
     "text": [
      "\n"
     ]
    }
   ],
   "source": [
    "\n",
    "#Split data into dependent and independant variable\n",
    "data=load_iris()\n",
    "X=data.data\n",
    "y=data.target\n",
    "\n",
    "\n",
    "#split data in train and test\n",
    "X_train,X_test,y_train,y_test = train_test_split(X,y,test_size=.5,random_state=123)\n",
    "\n",
    "#LazyClassifier class object initialised \n",
    "clf =LazyClassifier(verbose=0,ignore_warnings=True,custom_metric=None)\n",
    "\n",
    "#Prediction\n",
    "models,predictions =clf.fit(X_train,X_test,y_train,y_test)\n",
    "\n",
    "print(models)"
   ]
  },
  {
   "cell_type": "markdown",
   "metadata": {},
   "source": [
    "## Regression:"
   ]
  },
  {
   "cell_type": "code",
   "execution_count": 51,
   "metadata": {},
   "outputs": [
    {
     "name": "stderr",
     "output_type": "stream",
     "text": [
      "100%|██████████| 38/38 [00:03<00:00, 11.09it/s]"
     ]
    },
    {
     "name": "stdout",
     "output_type": "stream",
     "text": [
      "                               Adjusted R-Squared  R-Squared  RMSE  Time Taken\n",
      "Model                                                                         \n",
      "GradientBoostingRegressor                    0.83       0.84  3.46        0.07\n",
      "RandomForestRegressor                        0.83       0.84  3.51        0.27\n",
      "XGBRegressor                                 0.81       0.82  3.69        0.61\n",
      "BaggingRegressor                             0.80       0.81  3.77        0.05\n",
      "AdaBoostRegressor                            0.80       0.81  3.79        0.10\n",
      "ExtraTreesRegressor                          0.77       0.79  4.02        0.21\n",
      "HistGradientBoostingRegressor                0.76       0.78  4.11        0.87\n",
      "LGBMRegressor                                0.75       0.76  4.22        0.29\n",
      "DecisionTreeRegressor                        0.69       0.70  4.73        0.01\n",
      "SGDRegressor                                 0.67       0.68  4.88        0.01\n",
      "ElasticNetCV                                 0.67       0.68  4.88        0.11\n",
      "LassoLarsCV                                  0.67       0.68  4.88        0.03\n",
      "LarsCV                                       0.67       0.68  4.88        0.02\n",
      "BayesianRidge                                0.67       0.68  4.88        0.02\n",
      "LinearSVR                                    0.66       0.68  4.91        0.01\n",
      "Lasso                                        0.66       0.68  4.91        0.01\n",
      "LassoCV                                      0.66       0.68  4.92        0.06\n",
      "LassoLarsIC                                  0.66       0.68  4.94        0.01\n",
      "RidgeCV                                      0.65       0.67  4.97        0.01\n",
      "Ridge                                        0.65       0.67  4.97        0.01\n",
      "HuberRegressor                               0.65       0.67  5.01        0.02\n",
      "Lars                                         0.65       0.67  5.01        0.01\n",
      "LinearRegression                             0.65       0.67  5.01        0.01\n",
      "TransformedTargetRegressor                   0.65       0.67  5.01        0.02\n",
      "KNeighborsRegressor                          0.65       0.66  5.03        0.01\n",
      "ElasticNet                                   0.64       0.66  5.04        0.01\n",
      "RANSACRegressor                              0.64       0.66  5.06        0.09\n",
      "OrthogonalMatchingPursuitCV                  0.64       0.66  5.09        0.02\n",
      "SVR                                          0.58       0.60  5.50        0.02\n",
      "NuSVR                                        0.56       0.58  5.62        0.02\n",
      "OrthogonalMatchingPursuit                    0.53       0.55  5.81        0.00\n",
      "ExtraTreeRegressor                           0.51       0.53  5.93        0.01\n",
      "PassiveAggressiveRegressor                   0.51       0.53  5.95        0.01\n",
      "MLPRegressor                                 0.50       0.53  5.96        0.37\n",
      "GaussianProcessRegressor                    -0.08      -0.02  8.78        0.01\n",
      "DummyRegressor                              -0.08      -0.03  8.80        0.01\n",
      "LassoLars                                   -0.08      -0.03  8.80        0.01\n",
      "KernelRidge                                 -6.57      -6.18 23.26        0.01\n"
     ]
    },
    {
     "name": "stderr",
     "output_type": "stream",
     "text": [
      "\n"
     ]
    }
   ],
   "source": [
    "\n",
    "#Split data into dependent and independant variable\n",
    "data=load_boston()\n",
    "X=data.data\n",
    "y=data.target\n",
    "\n",
    "\n",
    "#split data in train and test\n",
    "X_train,X_test,y_train,y_test = train_test_split(X,y,test_size=.5,random_state=13)\n",
    "\n",
    "#LazyRegressor class object initialised \n",
    "clf =LazyRegressor(verbose=0,ignore_warnings=False,custom_metric=None)\n",
    "\n",
    "#Prediction\n",
    "models,predictions =clf.fit(X_train,X_test,y_train,y_test)\n",
    "\n",
    "print(models)"
   ]
  }
 ],
 "metadata": {
  "kernelspec": {
   "display_name": "Python 3",
   "language": "python",
   "name": "python3"
  },
  "language_info": {
   "codemirror_mode": {
    "name": "ipython",
    "version": 3
   },
   "file_extension": ".py",
   "mimetype": "text/x-python",
   "name": "python",
   "nbconvert_exporter": "python",
   "pygments_lexer": "ipython3",
   "version": "3.7.6"
  }
 },
 "nbformat": 4,
 "nbformat_minor": 4
}
